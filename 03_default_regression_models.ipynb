{
 "cells": [
  {
   "cell_type": "markdown",
   "metadata": {},
   "source": [
    "# Project: House Prices - Advanced Regression Techniques"
   ]
  },
  {
   "cell_type": "markdown",
   "metadata": {},
   "source": [
    "## Deafult Regression Models"
   ]
  },
  {
   "cell_type": "code",
   "execution_count": 1,
   "metadata": {
    "collapsed": false
   },
   "outputs": [],
   "source": [
    "# Import libraries necessary for this project\n",
    "import numpy as np\n",
    "import pandas as pd\n",
    "from IPython.display import display # Allows the use of display() for DataFrames\n",
    "\n",
    "# plotting with pyplot\n",
    "import matplotlib.mlab as mlab\n",
    "import matplotlib.pyplot as plt\n",
    "from scipy.stats import norm\n",
    "\n",
    "# to work with files\n",
    "import pickle\n",
    "\n",
    "# Pretty display for notebooks\n",
    "%matplotlib inline"
   ]
  },
  {
   "cell_type": "markdown",
   "metadata": {},
   "source": [
    "### Load the corresponding dataset via pickle\n",
    "\n",
    "Run only one of the following cells"
   ]
  },
  {
   "cell_type": "code",
   "execution_count": 24,
   "metadata": {
    "collapsed": true
   },
   "outputs": [],
   "source": [
    "# Loading datasets via pickle:\n",
    "# Work with the top two most corralated features\n",
    "features = pd.read_pickle('features_top2.pkl')\n",
    "log_prices = pd.read_pickle('log_prices_top2.pkl')\n",
    "public_features = pd.read_pickle('public_features_top2.pkl')"
   ]
  },
  {
   "cell_type": "code",
   "execution_count": 25,
   "metadata": {
    "collapsed": true
   },
   "outputs": [],
   "source": [
    "# Loading datasets via pickle:\n",
    "# Work with the top ten most corralated features\n",
    "features = pd.read_pickle('features_top10.pkl')\n",
    "log_prices = pd.read_pickle('log_prices_top10.pkl')\n",
    "public_features = pd.read_pickle('public_features_top10.pkl')"
   ]
  },
  {
   "cell_type": "code",
   "execution_count": 3,
   "metadata": {
    "collapsed": true
   },
   "outputs": [],
   "source": [
    "# Loading datasets via pickle:\n",
    "# Work with all features\n",
    "features = pd.read_pickle('features_all.pkl')\n",
    "log_prices = pd.read_pickle('log_prices_all.pkl')\n",
    "public_features = pd.read_pickle('public_features_all.pkl')"
   ]
  },
  {
   "cell_type": "markdown",
   "metadata": {},
   "source": [
    "### Split the data"
   ]
  },
  {
   "cell_type": "code",
   "execution_count": 38,
   "metadata": {
    "collapsed": true
   },
   "outputs": [],
   "source": [
    "# Import 'train_test_split'\n",
    "from sklearn.model_selection import train_test_split\n",
    "\n",
    "# Shuffle and split the data into training and testing subsets\n",
    "X_train, X_test, y_train, y_test = train_test_split(\n",
    "        features, log_prices, test_size=0.2, random_state=2\n",
    "    )"
   ]
  },
  {
   "cell_type": "markdown",
   "metadata": {},
   "source": [
    "### Test regression Models"
   ]
  },
  {
   "cell_type": "code",
   "execution_count": 22,
   "metadata": {
    "collapsed": true
   },
   "outputs": [],
   "source": [
    "from time import time\n",
    "\n",
    "def train_regressor(reg, X_train, y_train):\n",
    "    ''' Fits a classifier to the training data. '''\n",
    "    \n",
    "    # Start the clock, train the classifier, then stop the clock\n",
    "    start = time()\n",
    "    reg.fit(X_train, y_train)\n",
    "    end = time()\n",
    "    \n",
    "    # Print the results\n",
    "    print \"Trained model in {:.4f} seconds\".format(end - start)\n",
    "    \n",
    "def make_prediction(reg, X_test, y_test):\n",
    "    ''' Makes predictions using a fit classifier based on F1 score. '''\n",
    "    \n",
    "    # Print and return results\n",
    "    # return reg.score(X_test, y_test)\n",
    "    # The error metric: RMSE on the log of the sale prices.\n",
    "    from sklearn.metrics import mean_squared_error as mse\n",
    "    from sklearn.metrics import r2_score\n",
    "    \n",
    "    score = reg.score(X_test, y_test)\n",
    "    \n",
    "    start = time()\n",
    "    # The error metric: RMSE on the log of the sale prices.\n",
    "    y_pred = reg.predict(X_test)\n",
    "    \n",
    "    def rmse(y_pred, y_test):\n",
    "        mse_score = mse(y_test, y_pred)\n",
    "        rmse_score = np.sqrt(mse_score)\n",
    "        return rmse_score\n",
    "\n",
    "    rmsle_score = rmse(y_pred, y_test)\n",
    "    end = time()\n",
    "    total_time = end - start\n",
    "    \n",
    "    return total_time, score, rmsle_score, y_pred\n",
    "    \n",
    "def train_predict(reg, X_train, y_train, X_test, y_test):\n",
    "    ''' Train and predict using a classifer based on F1 score. '''\n",
    "    \n",
    "    # Indicate the classifier and the training set size\n",
    "    print \"Training a {} using a training set size of {}. . .\".format(reg.__class__.__name__, len(X_train))\n",
    "    \n",
    "    # Train the classifier\n",
    "    train_regressor(reg, X_train, y_train)\n",
    "    \n",
    "    # Print the results of prediction for both training and testing\n",
    "    print \"Test model in {:.4f} seconds\".format(make_prediction(reg, X_test, y_test)[0])\n",
    "    print \"R2 score for test set: {}\".format(make_prediction(reg, X_test, y_test)[1])\n",
    "    print \"RMSLE score for test set: {}\\n\".format(make_prediction(reg, X_test, y_test)[2])"
   ]
  },
  {
   "cell_type": "code",
   "execution_count": 39,
   "metadata": {
    "collapsed": false
   },
   "outputs": [
    {
     "name": "stdout",
     "output_type": "stream",
     "text": [
      "\n",
      "DecisionTreeRegressor: \n",
      "\n",
      "Training a DecisionTreeRegressor using a training set size of 1164. . .\n",
      "Trained model in 0.0764 seconds\n",
      "Test model in 0.0010 seconds\n",
      "R2 score for test set: 0.681487629803\n",
      "RMSLE score for test set: 0.229878831485\n",
      "\n",
      "\n",
      "SVR: \n",
      "\n",
      "Training a SVR using a training set size of 1164. . .\n",
      "Trained model in 0.2621 seconds\n",
      "Test model in 0.0175 seconds\n",
      "R2 score for test set: 0.0163711960787\n",
      "RMSLE score for test set: 0.4039721706\n",
      "\n",
      "\n",
      "ElasticNet: \n",
      "\n",
      "Training a ElasticNet using a training set size of 1164. . .\n",
      "Trained model in 0.0325 seconds\n",
      "Test model in 0.0007 seconds\n",
      "R2 score for test set: 0.824931281324\n",
      "RMSLE score for test set: 0.170427669581\n",
      "\n",
      "\n",
      "Lasso: \n",
      "\n",
      "Training a Lasso using a training set size of 1164. . .\n",
      "Trained model in 0.0026 seconds\n",
      "Test model in 0.0008 seconds\n",
      "R2 score for test set: 0.818117192459\n",
      "RMSLE score for test set: 0.173712733227\n",
      "\n",
      "\n",
      "LassoLars: \n",
      "\n",
      "Training a LassoLars using a training set size of 1164. . .\n",
      "Trained model in 0.0412 seconds\n",
      "Test model in 0.0007 seconds\n",
      "R2 score for test set: -0.0119693717538\n",
      "RMSLE score for test set: 0.409750519737\n",
      "\n",
      "\n",
      "BayesianRidge: \n",
      "\n",
      "Training a BayesianRidge using a training set size of 1164. . .\n",
      "Trained model in 0.1054 seconds\n",
      "Test model in 0.0008 seconds\n",
      "R2 score for test set: 0.851080824086\n",
      "RMSLE score for test set: 0.157185015076\n",
      "\n",
      "\n",
      "GradientBoostingRegressor: \n",
      "\n",
      "Training a GradientBoostingRegressor using a training set size of 1164. . .\n",
      "Trained model in 0.2389 seconds\n",
      "Test model in 0.0019 seconds\n",
      "R2 score for test set: 0.845157394908\n",
      "RMSLE score for test set: 0.160280638414\n",
      "\n",
      "\n",
      "ExtraTreesRegressor: \n",
      "\n",
      "Training a ExtraTreesRegressor using a training set size of 1164. . .\n",
      "Trained model in 0.1098 seconds\n",
      "Test model in 0.0131 seconds\n",
      "R2 score for test set: 0.817313460004\n"
     ]
    },
    {
     "name": "stderr",
     "output_type": "stream",
     "text": [
      "/usr/local/lib/python2.7/dist-packages/ipykernel/__main__.py:8: DataConversionWarning: A column-vector y was passed when a 1d array was expected. Please change the shape of y to (n_samples,), for example using ravel().\n"
     ]
    },
    {
     "name": "stdout",
     "output_type": "stream",
     "text": [
      "RMSLE score for test set: 0.174096124767\n",
      "\n",
      "\n",
      "BaggingRegressor: \n",
      "\n",
      "Training a BaggingRegressor using a training set size of 1164. . .\n",
      "Trained model in 0.1938 seconds\n",
      "Test model in 0.0056 seconds\n",
      "R2 score for test set: 0.819752024583\n",
      "RMSLE score for test set: 0.172930272807\n",
      "\n",
      "\n",
      "AdaBoostRegressor: \n",
      "\n",
      "Training a AdaBoostRegressor using a training set size of 1164. . .\n",
      "Trained model in 0.3396 seconds\n",
      "Test model in 0.0091 seconds\n",
      "R2 score for test set: 0.760534238021\n",
      "RMSLE score for test set: 0.199323058721\n",
      "\n",
      "\n",
      "XGBRegressor: \n",
      "\n",
      "Training a XGBRegressor using a training set size of 1164. . .\n",
      "Trained model in 0.3249 seconds\n",
      "Test model in 0.0025 seconds\n",
      "R2 score for test set: 0.842019424436\n",
      "RMSLE score for test set: 0.161896580093\n",
      "\n"
     ]
    }
   ],
   "source": [
    "# Import the supervised learning models from sklearn\n",
    "\n",
    "from sklearn.tree import DecisionTreeRegressor\n",
    "from sklearn import svm\n",
    "from sklearn.linear_model import ElasticNet\n",
    "from sklearn.linear_model import Lasso\n",
    "from sklearn.linear_model import Ridge\n",
    "from sklearn.linear_model import LassoLars\n",
    "from sklearn.linear_model import BayesianRidge\n",
    "from sklearn.ensemble import GradientBoostingRegressor\n",
    "from sklearn.ensemble import ExtraTreesRegressor\n",
    "from sklearn.ensemble import BaggingRegressor\n",
    "from sklearn.ensemble import AdaBoostRegressor\n",
    "import xgboost as xgb\n",
    "\n",
    "# Initialize the models\n",
    "reg_A = DecisionTreeRegressor(random_state=2)\n",
    "reg_B = svm.SVR()\n",
    "reg_C = ElasticNet(random_state=2)\n",
    "reg_D = Lasso(random_state=2)\n",
    "reg_E = LassoLars()\n",
    "reg_F = BayesianRidge()\n",
    "reg_G = GradientBoostingRegressor() # default loss function for regression is least squares ('ls')\n",
    "reg_H = ExtraTreesRegressor(random_state=2)\n",
    "reg_I = BaggingRegressor(random_state=2)\n",
    "reg_J = AdaBoostRegressor(random_state=2)\n",
    "\n",
    "# Install xgboost https://xgboost.readthedocs.io/en/latest/build.html\n",
    "reg_K = xgb.XGBRegressor()\n",
    "\n",
    "# Execute the 'train_predict' function for each classifier\n",
    "for reg in [reg_A, reg_B, reg_C, reg_D, reg_E, reg_F, reg_G, reg_H, reg_I, reg_J, reg_K]:\n",
    "    print \"\\n{}: \\n\".format(reg.__class__.__name__)\n",
    "    train_predict(reg, X_train, y_train, X_test, y_test)"
   ]
  },
  {
   "cell_type": "markdown",
   "metadata": {},
   "source": [
    "### Export the regressors to a dictionary via pickle"
   ]
  },
  {
   "cell_type": "markdown",
   "metadata": {},
   "source": [
    "#### An empty dictionary is already provided, use the following line to reset the entire dictionary of regressors"
   ]
  },
  {
   "cell_type": "code",
   "execution_count": 2,
   "metadata": {
    "collapsed": false
   },
   "outputs": [
    {
     "name": "stdout",
     "output_type": "stream",
     "text": [
      "regs_dict.dict saved!\n"
     ]
    }
   ],
   "source": [
    "## an empty dictionary is already provided, use this to reset the entire dictionary of regressors\n",
    "\n",
    "# initialize only the the first time otherwise the dictionary will be reset\n",
    "# regs_dict = {'top_2': {'untuned': {}, 'tuned': {}}, 'top_10': {'untuned': {}, 'tuned': {}}, 'all': {'untuned': {}, 'tuned': {}}}\n",
    "# Save regressors in dictionary\n",
    "# filename = 'regs_dict.dict'\n",
    "# pickle.dump(regs_dict, open(filename, 'wb'))\n",
    "# print '{} saved!'.format(filename)"
   ]
  },
  {
   "cell_type": "markdown",
   "metadata": {},
   "source": [
    "#### Load the models dictionary file via pickle"
   ]
  },
  {
   "cell_type": "code",
   "execution_count": 30,
   "metadata": {
    "collapsed": false
   },
   "outputs": [],
   "source": [
    "# load the regressors dictioanry\n",
    "filename = 'regs_dict.dict'\n",
    "\n",
    "# load the models dictionary according to selected filename\n",
    "regs_dict = pickle.load(open(filename, 'rb'))"
   ]
  },
  {
   "cell_type": "code",
   "execution_count": 31,
   "metadata": {
    "collapsed": false
   },
   "outputs": [
    {
     "name": "stdout",
     "output_type": "stream",
     "text": [
      "DecisionTreeRegressor saved!\n",
      "SVR saved!\n",
      "ElasticNet saved!\n",
      "Lasso saved!\n",
      "LassoLars saved!\n",
      "BayesianRidge saved!\n",
      "GradientBoostingRegressor saved!\n",
      "ExtraTreesRegressor saved!\n",
      "BaggingRegressor saved!\n",
      "AdaBoostRegressor saved!\n",
      "XGBRegressor saved!\n"
     ]
    }
   ],
   "source": [
    "# save regressors in dictionary\n",
    "for reg in [reg_A, reg_B, reg_C, reg_D, reg_E, reg_F, reg_G, reg_H, reg_I, reg_J, reg_K]:\n",
    "    # select only one of the following three lines according to the features use\n",
    "    # regs_dict['top_2']['untuned'][reg.__class__.__name__] = reg\n",
    "    # regs_dict['top_10']['untuned'][reg.__class__.__name__] = reg\n",
    "    regs_dict['all']['untuned'][reg.__class__.__name__] = reg\n",
    "    print '{} saved!'.format(reg.__class__.__name__)"
   ]
  },
  {
   "cell_type": "markdown",
   "metadata": {},
   "source": [
    "### Save the regressor dict via pickle"
   ]
  },
  {
   "cell_type": "code",
   "execution_count": 32,
   "metadata": {
    "collapsed": false
   },
   "outputs": [
    {
     "name": "stdout",
     "output_type": "stream",
     "text": [
      "regs_dict.dict saved!\n"
     ]
    }
   ],
   "source": [
    "# Save regressors in dictionary\n",
    "filename = 'regs_dict.dict'\n",
    "pickle.dump(regs_dict, open(filename, 'wb'))\n",
    "print '{} saved!'.format(filename)"
   ]
  }
 ],
 "metadata": {
  "kernelspec": {
   "display_name": "Python 2",
   "language": "python",
   "name": "python2"
  },
  "language_info": {
   "codemirror_mode": {
    "name": "ipython",
    "version": 2
   },
   "file_extension": ".py",
   "mimetype": "text/x-python",
   "name": "python",
   "nbconvert_exporter": "python",
   "pygments_lexer": "ipython2",
   "version": "2.7.6"
  }
 },
 "nbformat": 4,
 "nbformat_minor": 1
}
