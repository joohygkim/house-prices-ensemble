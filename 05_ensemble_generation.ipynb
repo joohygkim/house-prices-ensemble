{
 "cells": [
  {
   "cell_type": "markdown",
   "metadata": {},
   "source": [
    "# Project: House Prices - Advanced Regression Techniques"
   ]
  },
  {
   "cell_type": "markdown",
   "metadata": {},
   "source": [
    "## Ensemble generation"
   ]
  },
  {
   "cell_type": "code",
   "execution_count": 37,
   "metadata": {
    "collapsed": true
   },
   "outputs": [],
   "source": [
    "# Import libraries necessary for this project\n",
    "import numpy as np\n",
    "import pandas as pd\n",
    "import pickle\n",
    "\n",
    "# Pretty display for notebooks\n",
    "%matplotlib inline"
   ]
  },
  {
   "cell_type": "code",
   "execution_count": 36,
   "metadata": {
    "collapsed": true
   },
   "outputs": [],
   "source": [
    "# Load the Ames housing dataset\n",
    "train = pd.read_csv('data/house_prices/train.csv')\n",
    "test = pd.read_csv('data/house_prices/test.csv')"
   ]
  },
  {
   "cell_type": "markdown",
   "metadata": {},
   "source": [
    "### Load the corresponding dataset via pickle\n",
    "\n",
    "Run only one of the following cells"
   ]
  },
  {
   "cell_type": "code",
   "execution_count": 3,
   "metadata": {
    "collapsed": true
   },
   "outputs": [],
   "source": [
    "# Loading datasets via pickle:\n",
    "# Work with the top two most corralated features\n",
    "features = pd.read_pickle('features_top2.pkl')\n",
    "log_prices = pd.read_pickle('log_prices_top2.pkl')\n",
    "public_features = pd.read_pickle('public_features_top2.pkl')"
   ]
  },
  {
   "cell_type": "code",
   "execution_count": 27,
   "metadata": {
    "collapsed": true
   },
   "outputs": [],
   "source": [
    "# Loading datasets via pickle:\n",
    "# Work with the top ten most corralated features\n",
    "features = pd.read_pickle('features_top10.pkl')\n",
    "log_prices = pd.read_pickle('log_prices_top10.pkl')\n",
    "public_features = pd.read_pickle('public_features_top10.pkl')"
   ]
  },
  {
   "cell_type": "code",
   "execution_count": 38,
   "metadata": {
    "collapsed": true
   },
   "outputs": [],
   "source": [
    "# Loading datasets via pickle:\n",
    "# Work with all features\n",
    "features = pd.read_pickle('features_all.pkl')\n",
    "log_prices = pd.read_pickle('log_prices_all.pkl')\n",
    "public_features = pd.read_pickle('public_features_all.pkl')"
   ]
  },
  {
   "cell_type": "markdown",
   "metadata": {},
   "source": [
    "### Split the data"
   ]
  },
  {
   "cell_type": "code",
   "execution_count": 39,
   "metadata": {
    "collapsed": true
   },
   "outputs": [],
   "source": [
    "# Import 'train_test_split'\n",
    "from sklearn.model_selection import train_test_split\n",
    "\n",
    "# Shuffle and split the data into training and testing subsets\n",
    "X_train, X_test, y_train, y_test = train_test_split(\n",
    "        features, log_prices, test_size=0.2, random_state=2\n",
    "    )"
   ]
  },
  {
   "cell_type": "markdown",
   "metadata": {},
   "source": [
    "### Load the models dictionary file via pickle"
   ]
  },
  {
   "cell_type": "code",
   "execution_count": 40,
   "metadata": {
    "collapsed": true
   },
   "outputs": [],
   "source": [
    "# load the regressors dictioanry\n",
    "filename = 'regs_dict.dict'\n",
    "\n",
    "# load the models dictionary according to selected filename\n",
    "regs_dict = pickle.load(open(filename, 'rb'))"
   ]
  },
  {
   "cell_type": "markdown",
   "metadata": {},
   "source": [
    "#### load the models dictionary according to selected filename"
   ]
  },
  {
   "cell_type": "code",
   "execution_count": 45,
   "metadata": {
    "collapsed": false
   },
   "outputs": [],
   "source": [
    "# top2 features with untuned regressors\n",
    "# selected_regressors = regs_dict['top_2']['untuned']\n",
    "\n",
    "# top2 features with tuned regressors\n",
    "# selected_regressors = regs_dict['top_2']['tuned']\n",
    "\n",
    "# top10 features with untuned regressors\n",
    "# selected_regressors = regs_dict['top_10']['untuned']\n",
    "\n",
    "# top10 features with tuned regressors\n",
    "# selected_regressors = regs_dict['top_10']['tuned']\n",
    "\n",
    "# all features with untuned regressors\n",
    "# selected_regressors = regs_dict['all']['untuned']\n",
    "\n",
    "# all features with tuned regressors\n",
    "selected_regressors = regs_dict['all']['tuned']\n",
    "\n",
    "models = []\n",
    "for e in selected_regressors:\n",
    "    models.append(selected_regressors[e])"
   ]
  },
  {
   "cell_type": "markdown",
   "metadata": {},
   "source": [
    "#### Select specific models from the dictionary to ensemble"
   ]
  },
  {
   "cell_type": "code",
   "execution_count": 70,
   "metadata": {
    "collapsed": false
   },
   "outputs": [],
   "source": [
    "# add regressors here to remove then from the base_models of ensemble\n",
    "models = [regs_dict['all']['tuned']['BayesianRidge'], regs_dict['all']['tuned']['GradientBoostingRegressor']]"
   ]
  },
  {
   "cell_type": "markdown",
   "metadata": {},
   "source": [
    "### Define ensemble"
   ]
  },
  {
   "cell_type": "code",
   "execution_count": 42,
   "metadata": {
    "collapsed": false
   },
   "outputs": [],
   "source": [
    "# ensemble class mean\n",
    "class Ensemble(object):\n",
    "    def __init__(self, base_models):\n",
    "        self.base_models = models\n",
    "        \n",
    "    def predict(self, X, dictionary=None):\n",
    "        individual = np.zeros((len(self.base_models), X.shape[0]))\n",
    "        for i, model in enumerate(self.base_models):\n",
    "            individual[i, :] = model.predict(X)    # for features with feature engineering\n",
    "            # individual[i, :] = model.predict(X)[:] # for features without feature engineering\n",
    "        \n",
    "        result = np.mean(individual, axis=0) \n",
    "        \n",
    "        return result"
   ]
  },
  {
   "cell_type": "code",
   "execution_count": 71,
   "metadata": {
    "collapsed": false
   },
   "outputs": [],
   "source": [
    "# load the models into the ensemble\n",
    "ensemble = Ensemble(models)"
   ]
  },
  {
   "cell_type": "markdown",
   "metadata": {},
   "source": [
    "### Results from ensemble"
   ]
  },
  {
   "cell_type": "code",
   "execution_count": 72,
   "metadata": {
    "collapsed": false
   },
   "outputs": [
    {
     "name": "stdout",
     "output_type": "stream",
     "text": [
      "rmsle score is: 0.122978915078\n",
      "r2 score is: 0.908843077059\n"
     ]
    }
   ],
   "source": [
    "# calculate r2 score and rsmle score of ensemble\n",
    "from sklearn.metrics import mean_squared_error as mse\n",
    "\n",
    "y_pred = ensemble.predict(X_test)\n",
    "def rmse(y_pred, y_test):\n",
    "    mse_score = mse(y_test, y_pred)\n",
    "    rmse_score = np.sqrt(mse_score)\n",
    "    return rmse_score\n",
    "\n",
    "rmse_score = rmse(y_pred, y_test)\n",
    "\n",
    "print 'rmsle score is: {}'.format(rmse_score)\n",
    "\n",
    "from sklearn.metrics import r2_score\n",
    "r2_score = r2_score(y_test, y_pred)\n",
    "\n",
    "print 'r2 score is: {}'.format(r2_score)"
   ]
  },
  {
   "cell_type": "markdown",
   "metadata": {},
   "source": [
    "### Apply ensemble to competition dataset and save in csv for submission"
   ]
  },
  {
   "cell_type": "code",
   "execution_count": 73,
   "metadata": {
    "collapsed": false
   },
   "outputs": [],
   "source": [
    "### export to csv for kaggle submission\n",
    "# make prediction\n",
    "y_pred = ensemble.predict(public_features)\n",
    "# Data Recovery: Exponentiate the predictions\n",
    "y_pred = np.exp(y_pred)\n",
    "# dataframe for export to submission\n",
    "pred_df = pd.DataFrame(y_pred, index=test[\"Id\"], columns=[\"SalePrice\"]) "
   ]
  },
  {
   "cell_type": "markdown",
   "metadata": {},
   "source": [
    "#### all regressor with default parameters"
   ]
  },
  {
   "cell_type": "code",
   "execution_count": 77,
   "metadata": {
    "collapsed": true
   },
   "outputs": [],
   "source": [
    "# The top two most corralated features\n",
    "pred_df.to_csv('submission_top2.csv', header=True, index_label='Id')"
   ]
  },
  {
   "cell_type": "code",
   "execution_count": 20,
   "metadata": {
    "collapsed": true
   },
   "outputs": [],
   "source": [
    "# The top ten most corralated features\n",
    "pred_df.to_csv('submission_top10.csv', header=True, index_label='Id')"
   ]
  },
  {
   "cell_type": "code",
   "execution_count": 11,
   "metadata": {
    "collapsed": true
   },
   "outputs": [],
   "source": [
    "# All engineered features\n",
    "pred_df.to_csv('submission_all.csv', header=True, index_label='Id')"
   ]
  },
  {
   "cell_type": "markdown",
   "metadata": {},
   "source": [
    "#### all regressor with tuned parameters"
   ]
  },
  {
   "cell_type": "code",
   "execution_count": 65,
   "metadata": {
    "collapsed": true
   },
   "outputs": [],
   "source": [
    "# The top two most corralated features\n",
    "pred_df.to_csv('submission_top2_tuned.csv', header=True, index_label='Id')"
   ]
  },
  {
   "cell_type": "code",
   "execution_count": 37,
   "metadata": {
    "collapsed": true
   },
   "outputs": [],
   "source": [
    "# The top ten most corralated features\n",
    "pred_df.to_csv('submission_top10_tuned.csv', header=True, index_label='Id')"
   ]
  },
  {
   "cell_type": "code",
   "execution_count": 49,
   "metadata": {
    "collapsed": true
   },
   "outputs": [],
   "source": [
    "# All engineered features\n",
    "pred_df.to_csv('submission_all_tuned.csv', header=True, index_label='Id')"
   ]
  },
  {
   "cell_type": "markdown",
   "metadata": {},
   "source": [
    "#### custom"
   ]
  },
  {
   "cell_type": "code",
   "execution_count": 74,
   "metadata": {
    "collapsed": true
   },
   "outputs": [],
   "source": [
    "# All engineered features\n",
    "pred_df.to_csv('submission_custom3.csv', header=True, index_label='Id')"
   ]
  }
 ],
 "metadata": {
  "kernelspec": {
   "display_name": "Python 2",
   "language": "python",
   "name": "python2"
  },
  "language_info": {
   "codemirror_mode": {
    "name": "ipython",
    "version": 2
   },
   "file_extension": ".py",
   "mimetype": "text/x-python",
   "name": "python",
   "nbconvert_exporter": "python",
   "pygments_lexer": "ipython2",
   "version": "2.7.6"
  }
 },
 "nbformat": 4,
 "nbformat_minor": 1
}
